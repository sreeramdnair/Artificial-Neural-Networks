{
  "nbformat": 4,
  "nbformat_minor": 0,
  "metadata": {
    "colab": {
      "name": "Heart_Attack-Analysis.ipynb",
      "provenance": [],
      "authorship_tag": "ABX9TyNsR5GkedkY97gpjibeh3na",
      "include_colab_link": true
    },
    "kernelspec": {
      "name": "python3",
      "display_name": "Python 3"
    },
    "language_info": {
      "name": "python"
    }
  },
  "cells": [
    {
      "cell_type": "markdown",
      "metadata": {
        "id": "view-in-github",
        "colab_type": "text"
      },
      "source": [
        "<a href=\"https://colab.research.google.com/github/sreeramdnair/Artificial-Neural-Networks/blob/main/Heart_Attack_Analysis.ipynb\" target=\"_parent\"><img src=\"https://colab.research.google.com/assets/colab-badge.svg\" alt=\"Open In Colab\"/></a>"
      ]
    },
    {
      "cell_type": "markdown",
      "metadata": {
        "id": "1vlyM5qEbaIg"
      },
      "source": [
        "***Heart-Attack Analysis using ANN***\n",
        "\n",
        "*   Problem Type: Binary Classification\n",
        "*   code also demonstrates how we can choose the appropriate number of nodes and layers required to build any ANN (using KerasClassifier and GridSearchCV)\n",
        "\n"
      ]
    },
    {
      "cell_type": "code",
      "metadata": {
        "id": "vATPG4Kb4lDo"
      },
      "source": [
        "import pandas as pd\n",
        "import numpy as np"
      ],
      "execution_count": 1,
      "outputs": []
    },
    {
      "cell_type": "code",
      "metadata": {
        "colab": {
          "base_uri": "https://localhost:8080/"
        },
        "id": "ZMrj1YYI5IVw",
        "outputId": "8f397e28-e6be-40ca-b35e-6cc5f1fbd7da"
      },
      "source": [
        "dataset=pd.read_csv(\"/content/heart.csv\")\n",
        "dataset.shape"
      ],
      "execution_count": 2,
      "outputs": [
        {
          "output_type": "execute_result",
          "data": {
            "text/plain": [
              "(303, 14)"
            ]
          },
          "metadata": {},
          "execution_count": 2
        }
      ]
    },
    {
      "cell_type": "code",
      "metadata": {
        "colab": {
          "base_uri": "https://localhost:8080/",
          "height": 419
        },
        "id": "79U1Y3Si5RdG",
        "outputId": "3fc97a4f-2941-4619-c4da-2709a5446f58"
      },
      "source": [
        "features=dataset.iloc[:,:13]\n",
        "target=dataset.iloc[:,13]\n",
        "features"
      ],
      "execution_count": 3,
      "outputs": [
        {
          "output_type": "execute_result",
          "data": {
            "text/html": [
              "<div>\n",
              "<style scoped>\n",
              "    .dataframe tbody tr th:only-of-type {\n",
              "        vertical-align: middle;\n",
              "    }\n",
              "\n",
              "    .dataframe tbody tr th {\n",
              "        vertical-align: top;\n",
              "    }\n",
              "\n",
              "    .dataframe thead th {\n",
              "        text-align: right;\n",
              "    }\n",
              "</style>\n",
              "<table border=\"1\" class=\"dataframe\">\n",
              "  <thead>\n",
              "    <tr style=\"text-align: right;\">\n",
              "      <th></th>\n",
              "      <th>age</th>\n",
              "      <th>sex</th>\n",
              "      <th>cp</th>\n",
              "      <th>trtbps</th>\n",
              "      <th>chol</th>\n",
              "      <th>fbs</th>\n",
              "      <th>restecg</th>\n",
              "      <th>thalachh</th>\n",
              "      <th>exng</th>\n",
              "      <th>oldpeak</th>\n",
              "      <th>slp</th>\n",
              "      <th>caa</th>\n",
              "      <th>thall</th>\n",
              "    </tr>\n",
              "  </thead>\n",
              "  <tbody>\n",
              "    <tr>\n",
              "      <th>0</th>\n",
              "      <td>63</td>\n",
              "      <td>1</td>\n",
              "      <td>3</td>\n",
              "      <td>145</td>\n",
              "      <td>233</td>\n",
              "      <td>1</td>\n",
              "      <td>0</td>\n",
              "      <td>150</td>\n",
              "      <td>0</td>\n",
              "      <td>2.3</td>\n",
              "      <td>0</td>\n",
              "      <td>0</td>\n",
              "      <td>1</td>\n",
              "    </tr>\n",
              "    <tr>\n",
              "      <th>1</th>\n",
              "      <td>37</td>\n",
              "      <td>1</td>\n",
              "      <td>2</td>\n",
              "      <td>130</td>\n",
              "      <td>250</td>\n",
              "      <td>0</td>\n",
              "      <td>1</td>\n",
              "      <td>187</td>\n",
              "      <td>0</td>\n",
              "      <td>3.5</td>\n",
              "      <td>0</td>\n",
              "      <td>0</td>\n",
              "      <td>2</td>\n",
              "    </tr>\n",
              "    <tr>\n",
              "      <th>2</th>\n",
              "      <td>41</td>\n",
              "      <td>0</td>\n",
              "      <td>1</td>\n",
              "      <td>130</td>\n",
              "      <td>204</td>\n",
              "      <td>0</td>\n",
              "      <td>0</td>\n",
              "      <td>172</td>\n",
              "      <td>0</td>\n",
              "      <td>1.4</td>\n",
              "      <td>2</td>\n",
              "      <td>0</td>\n",
              "      <td>2</td>\n",
              "    </tr>\n",
              "    <tr>\n",
              "      <th>3</th>\n",
              "      <td>56</td>\n",
              "      <td>1</td>\n",
              "      <td>1</td>\n",
              "      <td>120</td>\n",
              "      <td>236</td>\n",
              "      <td>0</td>\n",
              "      <td>1</td>\n",
              "      <td>178</td>\n",
              "      <td>0</td>\n",
              "      <td>0.8</td>\n",
              "      <td>2</td>\n",
              "      <td>0</td>\n",
              "      <td>2</td>\n",
              "    </tr>\n",
              "    <tr>\n",
              "      <th>4</th>\n",
              "      <td>57</td>\n",
              "      <td>0</td>\n",
              "      <td>0</td>\n",
              "      <td>120</td>\n",
              "      <td>354</td>\n",
              "      <td>0</td>\n",
              "      <td>1</td>\n",
              "      <td>163</td>\n",
              "      <td>1</td>\n",
              "      <td>0.6</td>\n",
              "      <td>2</td>\n",
              "      <td>0</td>\n",
              "      <td>2</td>\n",
              "    </tr>\n",
              "    <tr>\n",
              "      <th>...</th>\n",
              "      <td>...</td>\n",
              "      <td>...</td>\n",
              "      <td>...</td>\n",
              "      <td>...</td>\n",
              "      <td>...</td>\n",
              "      <td>...</td>\n",
              "      <td>...</td>\n",
              "      <td>...</td>\n",
              "      <td>...</td>\n",
              "      <td>...</td>\n",
              "      <td>...</td>\n",
              "      <td>...</td>\n",
              "      <td>...</td>\n",
              "    </tr>\n",
              "    <tr>\n",
              "      <th>298</th>\n",
              "      <td>57</td>\n",
              "      <td>0</td>\n",
              "      <td>0</td>\n",
              "      <td>140</td>\n",
              "      <td>241</td>\n",
              "      <td>0</td>\n",
              "      <td>1</td>\n",
              "      <td>123</td>\n",
              "      <td>1</td>\n",
              "      <td>0.2</td>\n",
              "      <td>1</td>\n",
              "      <td>0</td>\n",
              "      <td>3</td>\n",
              "    </tr>\n",
              "    <tr>\n",
              "      <th>299</th>\n",
              "      <td>45</td>\n",
              "      <td>1</td>\n",
              "      <td>3</td>\n",
              "      <td>110</td>\n",
              "      <td>264</td>\n",
              "      <td>0</td>\n",
              "      <td>1</td>\n",
              "      <td>132</td>\n",
              "      <td>0</td>\n",
              "      <td>1.2</td>\n",
              "      <td>1</td>\n",
              "      <td>0</td>\n",
              "      <td>3</td>\n",
              "    </tr>\n",
              "    <tr>\n",
              "      <th>300</th>\n",
              "      <td>68</td>\n",
              "      <td>1</td>\n",
              "      <td>0</td>\n",
              "      <td>144</td>\n",
              "      <td>193</td>\n",
              "      <td>1</td>\n",
              "      <td>1</td>\n",
              "      <td>141</td>\n",
              "      <td>0</td>\n",
              "      <td>3.4</td>\n",
              "      <td>1</td>\n",
              "      <td>2</td>\n",
              "      <td>3</td>\n",
              "    </tr>\n",
              "    <tr>\n",
              "      <th>301</th>\n",
              "      <td>57</td>\n",
              "      <td>1</td>\n",
              "      <td>0</td>\n",
              "      <td>130</td>\n",
              "      <td>131</td>\n",
              "      <td>0</td>\n",
              "      <td>1</td>\n",
              "      <td>115</td>\n",
              "      <td>1</td>\n",
              "      <td>1.2</td>\n",
              "      <td>1</td>\n",
              "      <td>1</td>\n",
              "      <td>3</td>\n",
              "    </tr>\n",
              "    <tr>\n",
              "      <th>302</th>\n",
              "      <td>57</td>\n",
              "      <td>0</td>\n",
              "      <td>1</td>\n",
              "      <td>130</td>\n",
              "      <td>236</td>\n",
              "      <td>0</td>\n",
              "      <td>0</td>\n",
              "      <td>174</td>\n",
              "      <td>0</td>\n",
              "      <td>0.0</td>\n",
              "      <td>1</td>\n",
              "      <td>1</td>\n",
              "      <td>2</td>\n",
              "    </tr>\n",
              "  </tbody>\n",
              "</table>\n",
              "<p>303 rows × 13 columns</p>\n",
              "</div>"
            ],
            "text/plain": [
              "     age  sex  cp  trtbps  chol  fbs  ...  thalachh  exng  oldpeak  slp  caa  thall\n",
              "0     63    1   3     145   233    1  ...       150     0      2.3    0    0      1\n",
              "1     37    1   2     130   250    0  ...       187     0      3.5    0    0      2\n",
              "2     41    0   1     130   204    0  ...       172     0      1.4    2    0      2\n",
              "3     56    1   1     120   236    0  ...       178     0      0.8    2    0      2\n",
              "4     57    0   0     120   354    0  ...       163     1      0.6    2    0      2\n",
              "..   ...  ...  ..     ...   ...  ...  ...       ...   ...      ...  ...  ...    ...\n",
              "298   57    0   0     140   241    0  ...       123     1      0.2    1    0      3\n",
              "299   45    1   3     110   264    0  ...       132     0      1.2    1    0      3\n",
              "300   68    1   0     144   193    1  ...       141     0      3.4    1    2      3\n",
              "301   57    1   0     130   131    0  ...       115     1      1.2    1    1      3\n",
              "302   57    0   1     130   236    0  ...       174     0      0.0    1    1      2\n",
              "\n",
              "[303 rows x 13 columns]"
            ]
          },
          "metadata": {},
          "execution_count": 3
        }
      ]
    },
    {
      "cell_type": "code",
      "metadata": {
        "id": "AtFX4i0m7fs9"
      },
      "source": [
        "from sklearn.model_selection import train_test_split\n",
        "x_train,x_test,y_train,y_test=train_test_split(features,target,test_size=0.2,random_state=0)\n",
        "\n",
        "from sklearn.preprocessing import StandardScaler\n",
        "scaler=StandardScaler()\n",
        "x_train=scaler.fit_transform(x_train)\n",
        "x_test=scaler.transform(x_test)"
      ],
      "execution_count": 4,
      "outputs": []
    },
    {
      "cell_type": "code",
      "metadata": {
        "id": "wafhmXq99cQe"
      },
      "source": [
        "#import  modules for creating network\n",
        "from keras.models import Sequential\n",
        "from keras.layers import Dense, Activation\n",
        "from keras.activations import relu,sigmoid\n",
        "from keras.wrappers.scikit_learn import KerasClassifier  #for higher parameter optimiztion\n",
        "from sklearn.model_selection import GridSearchCV"
      ],
      "execution_count": 5,
      "outputs": []
    },
    {
      "cell_type": "code",
      "metadata": {
        "id": "BjARnCj_-R21"
      },
      "source": [
        "def build_model(layers,activation):   #function to build multiple models based on the no.of layers, nodes and activations mentioned.\n",
        "  model=Sequential()\n",
        "  for i,nodes in enumerate(layers):\n",
        "    if i==0:\n",
        "      model.add(Dense(nodes,input_dim=x_train.shape[1]))\n",
        "      model.add(Activation(activation))\n",
        "    else:\n",
        "      model.add(Dense(nodes,input_dim=x_train.shape[1]))\n",
        "      model.add(Activation(activation))\n",
        "    model.add(Dense(1))\n",
        "    model.compile(optimizer='adam',loss='binary_crossentropy',metrics=['accuracy'])\n",
        "    return model\n",
        "  \n",
        "model= KerasClassifier(build_fn=build_model,verbose=1)\n",
        "\n",
        "    "
      ],
      "execution_count": 15,
      "outputs": []
    },
    {
      "cell_type": "code",
      "metadata": {
        "id": "0Wa8QscHTk2q"
      },
      "source": [
        "layers=[[40],[40,20],[50,20],[40,30,20]]  #random list of nodes in each layer \n",
        "activations=['sigmoid','relu']\n",
        "param_grid= dict(layers=layers,activation=activations,batch_size=[128,256],epochs=[30])\n",
        "grid=GridSearchCV(estimator=model,param_grid=param_grid)"
      ],
      "execution_count": 24,
      "outputs": []
    },
    {
      "cell_type": "code",
      "metadata": {
        "colab": {
          "base_uri": "https://localhost:8080/"
        },
        "id": "GS4kmlnmVrOD",
        "outputId": "d7d3bcea-fa24-4f5f-9f17-98ae3cc43aa2"
      },
      "source": [
        "grid_search=grid.fit(x_train,y_train)"
      ],
      "execution_count": 25,
      "outputs": [
        {
          "output_type": "stream",
          "name": "stdout",
          "text": [
            "Epoch 1/30\n",
            "2/2 [==============================] - 0s 8ms/step - loss: 1.0402 - accuracy: 0.5389\n",
            "Epoch 2/30\n",
            "2/2 [==============================] - 0s 6ms/step - loss: 0.9456 - accuracy: 0.5440\n",
            "Epoch 3/30\n",
            "2/2 [==============================] - 0s 6ms/step - loss: 0.8022 - accuracy: 0.5596\n",
            "Epoch 4/30\n",
            "2/2 [==============================] - 0s 6ms/step - loss: 0.7687 - accuracy: 0.5803\n",
            "Epoch 5/30\n",
            "2/2 [==============================] - 0s 15ms/step - loss: 0.7451 - accuracy: 0.5855\n",
            "Epoch 6/30\n",
            "2/2 [==============================] - 0s 4ms/step - loss: 0.7252 - accuracy: 0.6010\n",
            "Epoch 7/30\n",
            "2/2 [==============================] - 0s 5ms/step - loss: 0.7020 - accuracy: 0.6269\n",
            "Epoch 8/30\n",
            "2/2 [==============================] - 0s 5ms/step - loss: 0.6786 - accuracy: 0.6477\n",
            "Epoch 9/30\n",
            "2/2 [==============================] - 0s 4ms/step - loss: 0.6072 - accuracy: 0.6839\n",
            "Epoch 10/30\n",
            "2/2 [==============================] - 0s 4ms/step - loss: 0.5761 - accuracy: 0.6891\n",
            "Epoch 11/30\n",
            "2/2 [==============================] - 0s 4ms/step - loss: 0.5592 - accuracy: 0.6943\n",
            "Epoch 12/30\n",
            "2/2 [==============================] - 0s 5ms/step - loss: 0.5430 - accuracy: 0.7047\n",
            "Epoch 13/30\n",
            "2/2 [==============================] - 0s 4ms/step - loss: 0.5287 - accuracy: 0.7047\n",
            "Epoch 14/30\n",
            "2/2 [==============================] - 0s 4ms/step - loss: 0.5135 - accuracy: 0.7358\n",
            "Epoch 15/30\n",
            "2/2 [==============================] - 0s 4ms/step - loss: 0.5002 - accuracy: 0.7461\n",
            "Epoch 16/30\n",
            "2/2 [==============================] - 0s 8ms/step - loss: 0.4872 - accuracy: 0.7668\n",
            "Epoch 17/30\n",
            "2/2 [==============================] - 0s 8ms/step - loss: 0.4750 - accuracy: 0.7668\n",
            "Epoch 18/30\n",
            "2/2 [==============================] - 0s 5ms/step - loss: 0.4641 - accuracy: 0.7772\n",
            "Epoch 19/30\n",
            "2/2 [==============================] - 0s 5ms/step - loss: 0.4541 - accuracy: 0.7927\n",
            "Epoch 20/30\n",
            "2/2 [==============================] - 0s 4ms/step - loss: 0.4448 - accuracy: 0.7876\n",
            "Epoch 21/30\n",
            "2/2 [==============================] - 0s 4ms/step - loss: 0.4361 - accuracy: 0.7979\n",
            "Epoch 22/30\n",
            "2/2 [==============================] - 0s 5ms/step - loss: 0.4284 - accuracy: 0.8031\n",
            "Epoch 23/30\n",
            "2/2 [==============================] - 0s 8ms/step - loss: 0.4211 - accuracy: 0.8031\n",
            "Epoch 24/30\n",
            "2/2 [==============================] - 0s 5ms/step - loss: 0.4138 - accuracy: 0.8083\n",
            "Epoch 25/30\n",
            "2/2 [==============================] - 0s 4ms/step - loss: 0.4078 - accuracy: 0.8083\n",
            "Epoch 26/30\n",
            "2/2 [==============================] - 0s 6ms/step - loss: 0.4015 - accuracy: 0.8083\n",
            "Epoch 27/30\n",
            "2/2 [==============================] - 0s 13ms/step - loss: 0.3965 - accuracy: 0.7927\n",
            "Epoch 28/30\n",
            "2/2 [==============================] - 0s 7ms/step - loss: 0.3922 - accuracy: 0.7824\n",
            "Epoch 29/30\n",
            "2/2 [==============================] - 0s 12ms/step - loss: 0.3878 - accuracy: 0.7824\n",
            "Epoch 30/30\n",
            "2/2 [==============================] - 0s 6ms/step - loss: 0.3840 - accuracy: 0.7824\n",
            "1/1 [==============================] - 0s 122ms/step - loss: 0.7760 - accuracy: 0.7959\n"
           
          ]
        }
      ]
    },
    {
      "cell_type": "code",
      "metadata": {
        "colab": {
          "base_uri": "https://localhost:8080/"
        },
        "id": "R5tsi6qtWB3K",
        "outputId": "6fb6a113-27d9-48de-df5d-bc806b5da8c2"
      },
      "source": [
        "[grid_search.best_score_,grid_search.best_params_]"
      ],
      "execution_count": 26,
      "outputs": [
        {
          "output_type": "execute_result",
          "data": {
            "text/plain": [
              "[0.7268707394599915,\n",
              " {'activation': 'sigmoid',\n",
              "  'batch_size': 128,\n",
              "  'epochs': 30,\n",
              "  'layers': [50, 20]}]"
            ]
          },
          "metadata": {},
          "execution_count": 26
        }
      ]
    },
    {
      "cell_type": "code",
      "metadata": {
        "colab": {
          "base_uri": "https://localhost:8080/"
        },
        "id": "PTioQ7XHYohE",
        "outputId": "d5e4601a-0398-4f42-b2ce-865b2011a294"
      },
      "source": [
        "y_pred=grid.predict(x_test)\n",
        "from sklearn.metrics import accuracy_score\n",
        "print(accuracy_score(y_test,y_pred))"
      ],
      "execution_count": 27,
      "outputs": [
        {
          "output_type": "stream",
          "name": "stdout",
          "text": [
            "0.8524590163934426\n"
          ]
        }
      ]
    },
    {
      "cell_type": "code",
      "metadata": {
        "id": "mMqpk27QZ1s-"
      },
      "source": [
        ""
      ],
      "execution_count": null,
      "outputs": []
    }
  ]
}
